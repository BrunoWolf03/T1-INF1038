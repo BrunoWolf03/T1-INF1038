{
 "cells": [
  {
   "cell_type": "markdown",
   "id": "cf2e6104",
   "metadata": {},
   "source": [
    "# Pré-processamento dos dados"
   ]
  }
 ],
 "metadata": {
  "language_info": {
   "name": "python"
  }
 },
 "nbformat": 4,
 "nbformat_minor": 5
}
