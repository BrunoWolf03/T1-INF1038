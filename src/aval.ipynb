{
 "cells": [
  {
   "cell_type": "code",
   "execution_count": 22,
   "id": "22951427",
   "metadata": {},
   "outputs": [],
   "source": [
    "import pandas as pd\n",
    "import numpy as np\n",
    "\n",
    "df = pd.read_csv(r\"../data/class_german_credit.csv\", engine=\"pyarrow\")"
   ]
  },
  {
   "cell_type": "markdown",
   "id": "cd5f5ec7",
   "metadata": {},
   "source": [
    "# Avaliação do dataset"
   ]
  },
  {
   "cell_type": "markdown",
   "id": "31142f9b",
   "metadata": {},
   "source": [
    "### Tipos de cada atributo"
   ]
  },
  {
   "cell_type": "code",
   "execution_count": 23,
   "id": "42f0d734",
   "metadata": {},
   "outputs": [
    {
     "name": "stdout",
     "output_type": "stream",
     "text": [
      "Tipos de cada atributo:\n"
     ]
    },
    {
     "data": {
      "text/plain": [
       "Age                  int64\n",
       "Sex                 object\n",
       "Job                  int64\n",
       "Housing             object\n",
       "Saving accounts     object\n",
       "Checking account    object\n",
       "Credit amount        int64\n",
       "Duration             int64\n",
       "Purpose             object\n",
       "Risk                object\n",
       "dtype: object"
      ]
     },
     "execution_count": 23,
     "metadata": {},
     "output_type": "execute_result"
    }
   ],
   "source": [
    "print(\"Tipos de cada atributo:\")\n",
    "df.dtypes"
   ]
  },
  {
   "cell_type": "markdown",
   "id": "cf019050",
   "metadata": {},
   "source": [
    "### Avaliação de frequência, valor mínimo, máximo e desvio padrão"
   ]
  },
  {
   "cell_type": "markdown",
   "id": "2b59ebe4",
   "metadata": {},
   "source": [
    "#### Frequência "
   ]
  },
  {
   "cell_type": "code",
   "execution_count": 25,
   "id": "2693e616",
   "metadata": {},
   "outputs": [
    {
     "data": {
      "text/plain": [
       "[('male', 690), ('female', 310)]"
      ]
     },
     "execution_count": 25,
     "metadata": {},
     "output_type": "execute_result"
    }
   ],
   "source": [
    "frequencia = df['Sex'].value_counts()\n",
    "list(frequencia.items())"
   ]
  },
  {
   "cell_type": "code",
   "execution_count": 26,
   "id": "17160fa6",
   "metadata": {},
   "outputs": [
    {
     "data": {
      "text/plain": [
       "[(2, 630), (1, 200), (3, 148), (0, 22)]"
      ]
     },
     "execution_count": 26,
     "metadata": {},
     "output_type": "execute_result"
    }
   ],
   "source": [
    "frequencia = df['Job'].value_counts()\n",
    "list(frequencia.items())"
   ]
  },
  {
   "cell_type": "code",
   "execution_count": 27,
   "id": "d8d6f028",
   "metadata": {},
   "outputs": [
    {
     "data": {
      "text/plain": [
       "[('own', 713), ('rent', 179), ('free', 108)]"
      ]
     },
     "execution_count": 27,
     "metadata": {},
     "output_type": "execute_result"
    }
   ],
   "source": [
    "frequencia = df['Housing'].value_counts()\n",
    "list(frequencia.items())"
   ]
  },
  {
   "cell_type": "code",
   "execution_count": 29,
   "id": "ba62ecfa",
   "metadata": {},
   "outputs": [
    {
     "data": {
      "text/plain": [
       "[('little', 603), ('moderate', 103), ('quite rich', 63), ('rich', 48)]"
      ]
     },
     "execution_count": 29,
     "metadata": {},
     "output_type": "execute_result"
    }
   ],
   "source": [
    "frequencia = df['Saving accounts'].value_counts()\n",
    "list(frequencia.items())"
   ]
  },
  {
   "cell_type": "code",
   "execution_count": 33,
   "id": "9943a798",
   "metadata": {},
   "outputs": [
    {
     "data": {
      "text/plain": [
       "[('little', 274), ('moderate', 269), ('rich', 63)]"
      ]
     },
     "execution_count": 33,
     "metadata": {},
     "output_type": "execute_result"
    }
   ],
   "source": [
    "frequencia = df['Checking account'].value_counts()\n",
    "list(frequencia.items())"
   ]
  },
  {
   "cell_type": "code",
   "execution_count": 34,
   "id": "b430ae5e",
   "metadata": {},
   "outputs": [
    {
     "data": {
      "text/plain": [
       "[('car', 337),\n",
       " ('radio/TV', 280),\n",
       " ('furniture/equipment', 181),\n",
       " ('business', 97),\n",
       " ('education', 59),\n",
       " ('repairs', 22),\n",
       " ('domestic appliances', 12),\n",
       " ('vacation/others', 12)]"
      ]
     },
     "execution_count": 34,
     "metadata": {},
     "output_type": "execute_result"
    }
   ],
   "source": [
    "frequencia = df['Purpose'].value_counts()\n",
    "list(frequencia.items())"
   ]
  },
  {
   "cell_type": "markdown",
   "id": "90f4377d",
   "metadata": {},
   "source": [
    "#### Valor mínimo e máximo "
   ]
  },
  {
   "cell_type": "code",
   "execution_count": 40,
   "id": "c171d2ad",
   "metadata": {},
   "outputs": [
    {
     "name": "stdout",
     "output_type": "stream",
     "text": [
      "Valor Máximo: 75\n",
      "Valor Mínimo: 19\n"
     ]
    }
   ],
   "source": [
    "valmax = df['Age'].max()\n",
    "valmin = df['Age'].min()\n",
    "print(f\"Valor Máximo: {valmax}\\nValor Mínimo: {valmin}\")"
   ]
  },
  {
   "cell_type": "code",
   "execution_count": 41,
   "id": "2d5d4c61",
   "metadata": {},
   "outputs": [
    {
     "name": "stdout",
     "output_type": "stream",
     "text": [
      "Valor Máximo: 72\n",
      "Valor Mínimo: 4\n"
     ]
    }
   ],
   "source": [
    "valmax = df['Duration'].max()\n",
    "valmin = df['Duration'].min()\n",
    "print(f\"Valor Máximo: {valmax}\\nValor Mínimo: {valmin}\")"
   ]
  },
  {
   "cell_type": "markdown",
   "id": "6cfda305",
   "metadata": {},
   "source": [
    "#### Desvio Padrão"
   ]
  },
  {
   "cell_type": "code",
   "execution_count": 49,
   "id": "d743cdc6",
   "metadata": {},
   "outputs": [
    {
     "name": "stdout",
     "output_type": "stream",
     "text": [
      "Desvio Padrão: 11.38\n"
     ]
    }
   ],
   "source": [
    "desvio = df[\"Age\"].std()\n",
    "print(f\"Desvio Padrão: {desvio:.2f}\")"
   ]
  },
  {
   "cell_type": "code",
   "execution_count": 50,
   "id": "9593537d",
   "metadata": {},
   "outputs": [
    {
     "name": "stdout",
     "output_type": "stream",
     "text": [
      "Desvio Padrão: 12.06\n"
     ]
    }
   ],
   "source": [
    "desvio = df[\"Duration\"].std()\n",
    "print(f\"Desvio Padrão: {desvio:.2f}\")"
   ]
  }
 ],
 "metadata": {
  "kernelspec": {
   "display_name": "venv",
   "language": "python",
   "name": "python3"
  },
  "language_info": {
   "codemirror_mode": {
    "name": "ipython",
    "version": 3
   },
   "file_extension": ".py",
   "mimetype": "text/x-python",
   "name": "python",
   "nbconvert_exporter": "python",
   "pygments_lexer": "ipython3",
   "version": "3.12.3"
  }
 },
 "nbformat": 4,
 "nbformat_minor": 5
}
