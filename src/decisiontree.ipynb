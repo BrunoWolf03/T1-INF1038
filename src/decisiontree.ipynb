{
 "cells": [
  {
   "cell_type": "code",
   "execution_count": 216,
   "id": "9b23cce3",
   "metadata": {},
   "outputs": [],
   "source": [
    "import pandas as pd\n",
    "import numpy as np\n",
    "from sklearn.tree import DecisionTreeClassifier\n",
    "from sklearn.model_selection import train_test_split\n",
    "from sklearn.metrics import accuracy_score, precision_score, recall_score\n",
    "from sklearn.tree import DecisionTreeClassifier\n",
    "from sklearn.metrics import accuracy_score, classification_report\n",
    "from sklearn.model_selection import StratifiedKFold\n",
    "\n",
    "X = pd.read_csv(r\"../data/df_X.csv\", engine=\"pyarrow\")\n",
    "y= pd.read_csv(r\"../data/df_y.csv\", engine=\"pyarrow\")"
   ]
  },
  {
   "cell_type": "markdown",
   "id": "3e78271b",
   "metadata": {},
   "source": [
    "# Código do Decision Tree"
   ]
  },
  {
   "cell_type": "code",
   "execution_count": 217,
   "id": "f6b00c88",
   "metadata": {},
   "outputs": [
    {
     "name": "stdout",
     "output_type": "stream",
     "text": [
      "Melhor acurácia entre os folds: 0.75\n"
     ]
    }
   ],
   "source": [
    "X_train, X_test, y_train, y_test = train_test_split(X, y, test_size=0.2, random_state=42, stratify=y)\n",
    "\n",
    "model = DecisionTreeClassifier(random_state=42)\n",
    "\n",
    "kf = StratifiedKFold(n_splits=12, shuffle=True, random_state=42)\n",
    "\n",
    "melhor_modelo = None\n",
    "melhor_score = 0\n",
    "\n",
    "for train_index, val_index in kf.split(X_train, y_train):\n",
    "    X_tr, X_val = X_train.iloc[train_index], X_train.iloc[val_index]\n",
    "    y_tr, y_val = y_train.iloc[train_index], y_train.iloc[val_index]\n",
    "\n",
    "    model = DecisionTreeClassifier(random_state=42)\n",
    "    model.fit(X_tr, y_tr)\n",
    "    \n",
    "    score = accuracy_score(y_val, model.predict(X_val))\n",
    "    \n",
    "    if score > melhor_score:\n",
    "        melhor_score = score \n",
    "        melhor_modelo = model \n",
    "\n",
    "print(f\"Melhor acurácia entre os folds: {melhor_score:.2f}\")"
   ]
  },
  {
   "cell_type": "code",
   "execution_count": 218,
   "id": "bec3e65b",
   "metadata": {},
   "outputs": [
    {
     "name": "stdout",
     "output_type": "stream",
     "text": [
      "Acurácia : 0.66\n",
      "Precisão : 0.48\n",
      "Recall   : 0.40\n"
     ]
    }
   ],
   "source": [
    "y_pred = melhor_modelo.predict(X_test)\n",
    "\n",
    "acc = accuracy_score(y_test, y_pred) \n",
    "prec = precision_score(y_test, y_pred)   \n",
    "rec = recall_score(y_test, y_pred)      \n",
    "\n",
    "print(f\"Acurácia : {acc:.2f}\")\n",
    "print(f\"Precisão : {prec:.2f}\")\n",
    "print(f\"Recall   : {rec:.2f}\")"
   ]
  },
  {
   "cell_type": "code",
   "execution_count": null,
   "id": "4623f74d",
   "metadata": {},
   "outputs": [
    {
     "name": "stdout",
     "output_type": "stream",
     "text": [
      "Acurácia : 0.67\n",
      "Precisão : 0.49\n",
      "Recall   : 0.46\n"
     ]
    }
   ],
   "source": [
    "#sem cross validation, apenas com bases de treino e teste balanceadas\n",
    "X_train, X_test, y_train, y_test = train_test_split(X, y, test_size=0.2, random_state=42, stratify=y)\n",
    "\n",
    "model = DecisionTreeClassifier(random_state=42)\n",
    "model.fit(X_train, y_train)\n",
    "y_pred = model.predict(X_test)\n",
    "\n",
    "acc = accuracy_score(y_test, y_pred) \n",
    "prec = precision_score(y_test, y_pred)   \n",
    "rec = recall_score(y_test, y_pred)      \n",
    "\n",
    "print(f\"Acurácia : {acc:.2f}\")\n",
    "print(f\"Precisão : {prec:.2f}\")\n",
    "print(f\"Recall   : {rec:.2f}\")"
   ]
  }
 ],
 "metadata": {
  "kernelspec": {
   "display_name": "venv",
   "language": "python",
   "name": "python3"
  },
  "language_info": {
   "codemirror_mode": {
    "name": "ipython",
    "version": 3
   },
   "file_extension": ".py",
   "mimetype": "text/x-python",
   "name": "python",
   "nbconvert_exporter": "python",
   "pygments_lexer": "ipython3",
   "version": "3.12.3"
  }
 },
 "nbformat": 4,
 "nbformat_minor": 5
}
