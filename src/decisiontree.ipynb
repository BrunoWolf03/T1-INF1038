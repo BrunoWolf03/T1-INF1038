{
 "cells": [
  {
   "cell_type": "code",
   "execution_count": 32,
   "id": "9b23cce3",
   "metadata": {},
   "outputs": [],
   "source": [
    "import pandas as pd\n",
    "import numpy as np\n",
    "from sklearn.tree import DecisionTreeClassifier\n",
    "from sklearn.model_selection import train_test_split\n",
    "from sklearn.metrics import accuracy_score, precision_score, recall_score\n",
    "from sklearn.tree import DecisionTreeClassifier\n",
    "from sklearn.metrics import accuracy_score, classification_report\n",
    "from sklearn.model_selection import StratifiedKFold\n",
    "\n",
    "X = pd.read_csv(r\"../data/df_X.csv\", engine=\"pyarrow\")\n",
    "y= pd.read_csv(r\"../data/df_y.csv\", engine=\"pyarrow\")"
   ]
  },
  {
   "cell_type": "markdown",
   "id": "3e78271b",
   "metadata": {},
   "source": [
    "# Código do Decision Tree"
   ]
  },
  {
   "cell_type": "code",
   "execution_count": 33,
   "id": "f6b00c88",
   "metadata": {},
   "outputs": [
    {
     "name": "stdout",
     "output_type": "stream",
     "text": [
      "Melhor acurácia entre os folds: 0.6694\n"
     ]
    }
   ],
   "source": [
    "X_train, X_test, y_train, y_test = train_test_split(X, y, test_size=0.2, random_state=42)\n",
    "\n",
    "model = DecisionTreeClassifier(random_state=42)\n",
    "\n",
    "kf = StratifiedKFold(n_splits=5, shuffle=True, random_state=42)\n",
    "\n",
    "melhor_modelo = None\n",
    "melhor_score = 0\n",
    "\n",
    "for train_index, val_index in kf.split(X_train, y_train):\n",
    "    X_tr, X_val = X_train.iloc[train_index], X_train.iloc[val_index]\n",
    "    y_tr, y_val = y_train.iloc[train_index], y_train.iloc[val_index]\n",
    "\n",
    "    model = DecisionTreeClassifier(random_state=42)\n",
    "    model.fit(X_tr, y_tr)\n",
    "    \n",
    "    score = accuracy_score(y_val, model.predict(X_val))\n",
    "    \n",
    "    if score > melhor_score:\n",
    "        melhor_score = score\n",
    "        melhor_modelo = model  # salva o melhor modelo\n",
    "\n",
    "print(f\"Melhor acurácia entre os folds: {melhor_score:.4f}\")"
   ]
  },
  {
   "cell_type": "code",
   "execution_count": null,
   "id": "bec3e65b",
   "metadata": {},
   "outputs": [
    {
     "name": "stdout",
     "output_type": "stream",
     "text": [
      "Acurácia : 0.6250\n",
      "Precisão : 0.3235\n",
      "Recall   : 0.2444\n"
     ]
    }
   ],
   "source": [
    "y_pred = melhor_modelo.predict(X_test)\n",
    "\n",
    "acc = accuracy_score(y_test, y_pred)\n",
    "prec = precision_score(y_test, y_pred)   \n",
    "rec = recall_score(y_test, y_pred)      \n",
    "\n",
    "print(f\"Acurácia : {acc:.4f}\")\n",
    "print(f\"Precisão : {prec:.4f}\")\n",
    "print(f\"Recall   : {rec:.4f}\")"
   ]
  }
 ],
 "metadata": {
  "kernelspec": {
   "display_name": "venv",
   "language": "python",
   "name": "python3"
  },
  "language_info": {
   "codemirror_mode": {
    "name": "ipython",
    "version": 3
   },
   "file_extension": ".py",
   "mimetype": "text/x-python",
   "name": "python",
   "nbconvert_exporter": "python",
   "pygments_lexer": "ipython3",
   "version": "3.12.3"
  }
 },
 "nbformat": 4,
 "nbformat_minor": 5
}
