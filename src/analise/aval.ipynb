{
 "cells": [
  {
   "cell_type": "code",
   "execution_count": 7,
   "id": "22951427",
   "metadata": {},
   "outputs": [],
   "source": [
    "import pandas as pd\n",
    "import numpy as np\n",
    "import matplotlib.pyplot as plt\n",
    "import seaborn as sns\n",
    "from sklearn.neighbors import KNeighborsClassifier as knn\n",
    "from sklearn.model_selection import train_test_split as tts\n",
    "from sklearn.neighbors import NeighborhoodComponentsAnalysis as nca\n",
    "from sklearn.pipeline import Pipeline as pipe\n",
    "\n",
    "df = pd.read_csv(r\"../../data/class_german_credit.csv\", engine=\"pyarrow\")"
   ]
  },
  {
   "cell_type": "markdown",
   "id": "cd5f5ec7",
   "metadata": {},
   "source": [
    "# Avaliação do dataset"
   ]
  },
  {
   "cell_type": "markdown",
   "id": "31142f9b",
   "metadata": {},
   "source": [
    "### Tipos de cada atributo"
   ]
  },
  {
   "cell_type": "code",
   "execution_count": 8,
   "id": "42f0d734",
   "metadata": {},
   "outputs": [
    {
     "name": "stdout",
     "output_type": "stream",
     "text": [
      "Tipos de cada atributo:\n"
     ]
    },
    {
     "data": {
      "text/plain": [
       "Age                  int64\n",
       "Sex                 object\n",
       "Job                  int64\n",
       "Housing             object\n",
       "Saving accounts     object\n",
       "Checking account    object\n",
       "Credit amount        int64\n",
       "Duration             int64\n",
       "Purpose             object\n",
       "Risk                object\n",
       "dtype: object"
      ]
     },
     "execution_count": 8,
     "metadata": {},
     "output_type": "execute_result"
    }
   ],
   "source": [
    "print(\"Tipos de cada atributo:\")\n",
    "df.dtypes"
   ]
  },
  {
   "cell_type": "code",
   "execution_count": 24,
   "id": "86845363",
   "metadata": {},
   "outputs": [
    {
     "name": "stdout",
     "output_type": "stream",
     "text": [
      "<class 'pandas.core.frame.DataFrame'>\n",
      "RangeIndex: 1000 entries, 0 to 999\n",
      "Data columns (total 10 columns):\n",
      " #   Column            Non-Null Count  Dtype \n",
      "---  ------            --------------  ----- \n",
      " 0   Age               1000 non-null   int64 \n",
      " 1   Sex               1000 non-null   object\n",
      " 2   Job               1000 non-null   int64 \n",
      " 3   Housing           1000 non-null   object\n",
      " 4   Saving accounts   817 non-null    object\n",
      " 5   Checking account  606 non-null    object\n",
      " 6   Credit amount     1000 non-null   int64 \n",
      " 7   Duration          1000 non-null   int64 \n",
      " 8   Purpose           1000 non-null   object\n",
      " 9   Risk              1000 non-null   object\n",
      "dtypes: int64(4), object(6)\n",
      "memory usage: 78.3+ KB\n",
      "None\n"
     ]
    }
   ],
   "source": [
    "print(df.info())\n"
   ]
  },
  {
   "cell_type": "markdown",
   "id": "cf019050",
   "metadata": {},
   "source": [
    "### Avaliação de frequência, valor mínimo, máximo e desvio padrão"
   ]
  },
  {
   "cell_type": "markdown",
   "id": "2b59ebe4",
   "metadata": {},
   "source": [
    "#### Frequência "
   ]
  },
  {
   "cell_type": "code",
   "execution_count": 9,
   "id": "2693e616",
   "metadata": {},
   "outputs": [
    {
     "data": {
      "text/plain": [
       "[('male', 690), ('female', 310)]"
      ]
     },
     "execution_count": 9,
     "metadata": {},
     "output_type": "execute_result"
    }
   ],
   "source": [
    "frequencia = df['Sex'].value_counts()\n",
    "list(frequencia.items())"
   ]
  },
  {
   "cell_type": "code",
   "execution_count": 10,
   "id": "17160fa6",
   "metadata": {},
   "outputs": [
    {
     "data": {
      "text/plain": [
       "[(2, 630), (1, 200), (3, 148), (0, 22)]"
      ]
     },
     "execution_count": 10,
     "metadata": {},
     "output_type": "execute_result"
    }
   ],
   "source": [
    "frequencia = df['Job'].value_counts()\n",
    "list(frequencia.items())"
   ]
  },
  {
   "cell_type": "code",
   "execution_count": 11,
   "id": "d8d6f028",
   "metadata": {},
   "outputs": [
    {
     "data": {
      "text/plain": [
       "[('own', 713), ('rent', 179), ('free', 108)]"
      ]
     },
     "execution_count": 11,
     "metadata": {},
     "output_type": "execute_result"
    }
   ],
   "source": [
    "frequencia = df['Housing'].value_counts()\n",
    "list(frequencia.items())"
   ]
  },
  {
   "cell_type": "code",
   "execution_count": 12,
   "id": "ba62ecfa",
   "metadata": {},
   "outputs": [
    {
     "data": {
      "text/plain": [
       "[('little', 603), ('moderate', 103), ('quite rich', 63), ('rich', 48)]"
      ]
     },
     "execution_count": 12,
     "metadata": {},
     "output_type": "execute_result"
    }
   ],
   "source": [
    "frequencia = df['Saving accounts'].value_counts()\n",
    "list(frequencia.items())"
   ]
  },
  {
   "cell_type": "code",
   "execution_count": 13,
   "id": "9943a798",
   "metadata": {},
   "outputs": [
    {
     "data": {
      "text/plain": [
       "[('little', 274), ('moderate', 269), ('rich', 63)]"
      ]
     },
     "execution_count": 13,
     "metadata": {},
     "output_type": "execute_result"
    }
   ],
   "source": [
    "frequencia = df['Checking account'].value_counts()\n",
    "list(frequencia.items())"
   ]
  },
  {
   "cell_type": "code",
   "execution_count": 14,
   "id": "b430ae5e",
   "metadata": {},
   "outputs": [
    {
     "data": {
      "text/plain": [
       "[('car', 337),\n",
       " ('radio/TV', 280),\n",
       " ('furniture/equipment', 181),\n",
       " ('business', 97),\n",
       " ('education', 59),\n",
       " ('repairs', 22),\n",
       " ('domestic appliances', 12),\n",
       " ('vacation/others', 12)]"
      ]
     },
     "execution_count": 14,
     "metadata": {},
     "output_type": "execute_result"
    }
   ],
   "source": [
    "frequencia = df['Purpose'].value_counts()\n",
    "list(frequencia.items())"
   ]
  },
  {
   "cell_type": "markdown",
   "id": "90f4377d",
   "metadata": {},
   "source": [
    "#### Valor mínimo e máximo "
   ]
  },
  {
   "cell_type": "code",
   "execution_count": 15,
   "id": "c171d2ad",
   "metadata": {},
   "outputs": [
    {
     "name": "stdout",
     "output_type": "stream",
     "text": [
      "Valor Máximo: 75\n",
      "Valor Mínimo: 19\n"
     ]
    }
   ],
   "source": [
    "valmax = df['Age'].max()\n",
    "valmin = df['Age'].min()\n",
    "print(f\"Valor Máximo: {valmax}\\nValor Mínimo: {valmin}\")"
   ]
  },
  {
   "cell_type": "code",
   "execution_count": 16,
   "id": "2d5d4c61",
   "metadata": {},
   "outputs": [
    {
     "name": "stdout",
     "output_type": "stream",
     "text": [
      "Valor Máximo: 72\n",
      "Valor Mínimo: 4\n"
     ]
    }
   ],
   "source": [
    "valmax = df['Duration'].max()\n",
    "valmin = df['Duration'].min()\n",
    "print(f\"Valor Máximo: {valmax}\\nValor Mínimo: {valmin}\")"
   ]
  },
  {
   "cell_type": "markdown",
   "id": "6cfda305",
   "metadata": {},
   "source": [
    "#### Desvio Padrão"
   ]
  },
  {
   "cell_type": "code",
   "execution_count": 17,
   "id": "d743cdc6",
   "metadata": {},
   "outputs": [
    {
     "name": "stdout",
     "output_type": "stream",
     "text": [
      "Desvio Padrão: 11.38\n"
     ]
    }
   ],
   "source": [
    "desvio = df[\"Age\"].std()\n",
    "print(f\"Desvio Padrão: {desvio:.2f}\")"
   ]
  },
  {
   "cell_type": "code",
   "execution_count": 18,
   "id": "9593537d",
   "metadata": {},
   "outputs": [
    {
     "name": "stdout",
     "output_type": "stream",
     "text": [
      "Desvio Padrão: 12.06\n"
     ]
    }
   ],
   "source": [
    "desvio = df[\"Duration\"].std()\n",
    "print(f\"Desvio Padrão: {desvio:.2f}\")"
   ]
  },
  {
   "cell_type": "markdown",
   "id": "84ec4668",
   "metadata": {},
   "source": [
    "### Avaliação de Outliers"
   ]
  },
  {
   "cell_type": "code",
   "execution_count": 20,
   "id": "e208d518",
   "metadata": {},
   "outputs": [
    {
     "name": "stdout",
     "output_type": "stream",
     "text": [
      "Estatística básica dos atributos:\n",
      "               Age          Job  Credit amount     Duration\n",
      "count  1000.000000  1000.000000    1000.000000  1000.000000\n",
      "mean     35.546000     1.904000    3271.258000    20.903000\n",
      "std      11.375469     0.653614    2822.736876    12.058814\n",
      "min      19.000000     0.000000     250.000000     4.000000\n",
      "25%      27.000000     2.000000    1365.500000    12.000000\n",
      "50%      33.000000     2.000000    2319.500000    18.000000\n",
      "75%      42.000000     2.000000    3972.250000    24.000000\n",
      "max      75.000000     3.000000   18424.000000    72.000000\n"
     ]
    }
   ],
   "source": [
    "print('Estatística básica dos atributos:')\n",
    "print(df.describe())"
   ]
  },
  {
   "cell_type": "code",
   "execution_count": null,
   "id": "a8c51686",
   "metadata": {},
   "outputs": [
    {
     "data": {
      "image/png": "[encoded data removed]",
      "text/plain": [
       "<Figure size 576x432 with 1 Axes>"
      ]
     },
     "metadata": {},
     "output_type": "display_data"
    }
   ],
   "source": [
    "df_topSpecies = df['Purpose'].groupby(df['Purpose']).count().sort_values(ascending=False) \n",
    "fig = plt.figure(dpi=90)\n",
    "df_topSpecies.plot.bar()\n",
    "\n",
    "plt.title('Número de devedores agrupados por motivo')\n",
    "plt.xlabel('Purpose')\n",
    "plt.ylabel('Número de devedores')\n",
    "plt.show()\n",
    "\n",
    "#posso agrupar os com menos instancias em um agrupamento só?"
   ]
  }
 ],
 "metadata": {
  "kernelspec": {
   "display_name": "venv",
   "language": "python",
   "name": "python3"
  },
  "language_info": {
   "codemirror_mode": {
    "name": "ipython",
    "version": 3
   },
   "file_extension": ".py",
   "mimetype": "text/x-python",
   "name": "python",
   "nbconvert_exporter": "python",
   "pygments_lexer": "ipython3",
   "version": "3.12.3"
  }
 },
 "nbformat": 4,
 "nbformat_minor": 5
}
